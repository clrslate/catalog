{
 "cells": [
  {
   "cell_type": "code",
   "execution_count": null,
   "id": "cca1b2cd",
   "metadata": {
    "polyglot_notebook": {
     "kernelName": "pwsh"
    }
   },
   "outputs": [],
   "source": [
    "clrslate package import k8s\n",
    "clrslate package import helm\n",
    "clrslate package import istio\n",
    "clrslate package import azure\n",
    "clrslate package import cp-azure\n",
    "clrslate package import clrslatePlatform\n",
    "clrslate package import redis\n",
    "clrslate package import mongodb\n",
    "clrslate package import rabbitmq\n",
    "clrslate package import mixed\n",
    "clrslate package import github\n",
    "clrslate package import gitlab"
   ]
  }
 ],
 "metadata": {
  "kernelspec": {
   "display_name": ".NET (PowerShell)",
   "language": "PowerShell",
   "name": ".net-pwsh"
  },
  "language_info": {
   "name": "polyglot-notebook"
  },
  "polyglot_notebook": {
   "kernelInfo": {
    "defaultKernelName": "pwsh",
    "items": [
     {
      "aliases": [],
      "languageName": "pwsh",
      "name": "pwsh"
     }
    ]
   }
  }
 },
 "nbformat": 4,
 "nbformat_minor": 5
}
